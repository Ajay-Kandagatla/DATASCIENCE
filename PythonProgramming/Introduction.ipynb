{
 "cells": [
  {
   "cell_type": "markdown",
   "id": "a24b84b2",
   "metadata": {},
   "source": [
    "#### Introduction to python programming "
   ]
  },
  {
   "cell_type": "code",
   "execution_count": 1,
   "id": "f14e5c57",
   "metadata": {},
   "outputs": [
    {
     "data": {
      "text/plain": [
       "'\\nData types in python are as follows:\\n1.Integer\\n2.Float\\n3.string\\n'"
      ]
     },
     "execution_count": 1,
     "metadata": {},
     "output_type": "execute_result"
    }
   ],
   "source": [
    "# Variable Definition\n",
    "number = 100        #Defining Integer Variable\n",
    "decimal = 1000.890  #Defining Float Variable : Decimal Values \n",
    "string = 'Hello World' #Defining String: \"Text Information\"\n",
    "'''\n",
    "Data types in python are as follows:\n",
    "1.Integer\n",
    "2.Float\n",
    "3.string\n",
    "'''\n",
    "\n"
   ]
  },
  {
   "cell_type": "code",
   "execution_count": 2,
   "id": "511942a4",
   "metadata": {},
   "outputs": [
    {
     "name": "stdout",
     "output_type": "stream",
     "text": [
      "<class 'int'>\n",
      "<class 'float'>\n",
      "<class 'str'>\n"
     ]
    }
   ],
   "source": [
    "# Checking Datatype Variables\n",
    "print(type(number))\n",
    "print(type(decimal))\n",
    "print(type(string))\n",
    "\n"
   ]
  },
  {
   "cell_type": "code",
   "execution_count": null,
   "id": "3df9d56c",
   "metadata": {},
   "outputs": [],
   "source": []
  }
 ],
 "metadata": {
  "kernelspec": {
   "display_name": "base",
   "language": "python",
   "name": "python3"
  },
  "language_info": {
   "codemirror_mode": {
    "name": "ipython",
    "version": 3
   },
   "file_extension": ".py",
   "mimetype": "text/x-python",
   "name": "python",
   "nbconvert_exporter": "python",
   "pygments_lexer": "ipython3",
   "version": "3.12.7"
  }
 },
 "nbformat": 4,
 "nbformat_minor": 5
}
