{
 "cells": [
  {
   "cell_type": "markdown",
   "id": "a24b84b2",
   "metadata": {},
   "source": [
    "#### Introduction to python programming "
   ]
  },
  {
   "cell_type": "code",
   "execution_count": 1,
   "id": "f14e5c57",
   "metadata": {},
   "outputs": [
    {
     "data": {
      "text/plain": [
       "'\\nData types in python are as follows:\\n1.Integer\\n2.Float\\n3.string\\n'"
      ]
     },
     "execution_count": 1,
     "metadata": {},
     "output_type": "execute_result"
    }
   ],
   "source": [
    "# Variable Definition\n",
    "number = 100        #Defining Integer Variable\n",
    "decimal = 1000.890  #Defining Float Variable : Decimal Values \n",
    "string = 'Hello World' #Defining String: \"Text Information\"\n",
    "'''\n",
    "Data types in python are as follows:\n",
    "1.Integer\n",
    "2.Float\n",
    "3.string\n",
    "'''\n",
    "\n"
   ]
  },
  {
   "cell_type": "code",
   "execution_count": 2,
   "id": "511942a4",
   "metadata": {},
   "outputs": [
    {
     "name": "stdout",
     "output_type": "stream",
     "text": [
      "<class 'int'>\n",
      "<class 'float'>\n",
      "<class 'str'>\n"
     ]
    }
   ],
   "source": [
    "# Checking Datatype Variables\n",
    "print(type(number))\n",
    "print(type(decimal))\n",
    "print(type(string))\n",
    "\n"
   ]
  },
  {
   "cell_type": "code",
   "execution_count": 3,
   "id": "3df9d56c",
   "metadata": {},
   "outputs": [
    {
     "name": "stdout",
     "output_type": "stream",
     "text": [
      "100\n"
     ]
    }
   ],
   "source": [
    "# type casting of data type\n",
    "num = 100.2908383  #Datatype  :Float \n",
    "print(int(num))    #float is typecasted to int"
   ]
  },
  {
   "cell_type": "code",
   "execution_count": 5,
   "id": "d49f972b-edf6-4e63-a965-4734599dcfa3",
   "metadata": {},
   "outputs": [
    {
     "name": "stdout",
     "output_type": "stream",
     "text": [
      "Enter the value 1000\n"
     ]
    },
    {
     "name": "stdout",
     "output_type": "stream",
     "text": [
      "<class 'str'>\n",
      "1000\n",
      "1000.0\n"
     ]
    }
   ],
   "source": [
    "# Using input function\n",
    "# input() :--> Function\n",
    "num =input('Enter the value')\n",
    "'''\n",
    "Whenever we use input function, the output of input function is always string\n",
    "'''\n",
    "\n",
    "print(type(num))\n",
    "#doing typecasting\n",
    "print(int(num))   #Typecasting string value to integer\n",
    "print(float(num)) #typecasting string value to float\n"
   ]
  },
  {
   "cell_type": "code",
   "execution_count": 17,
   "id": "aec12dc3-8c68-4772-9084-ccfd91c8cf24",
   "metadata": {},
   "outputs": [
    {
     "name": "stdout",
     "output_type": "stream",
     "text": [
      "Enter the name of the person:  FRD\n"
     ]
    },
    {
     "name": "stdout",
     "output_type": "stream",
     "text": [
      "tousif FRD\n",
      "<class 'str'>\n"
     ]
    }
   ],
   "source": [
    "# Ask the user ro enter the string using input finction\n",
    "\n",
    "str =input('Enter the name of the person: ')\n",
    "print('tousif',str)\n",
    "print(type(str))"
   ]
  },
  {
   "cell_type": "code",
   "execution_count": 1,
   "id": "819b7a1c-90b3-4803-abe6-44b356ee14fa",
   "metadata": {},
   "outputs": [
    {
     "name": "stdout",
     "output_type": "stream",
     "text": [
      "the addition of two number as 20.0 and40.0 is 60.0\n"
     ]
    }
   ],
   "source": [
    "# perform Mathmatical Operation \n",
    "num1 = float(input('Enter the first Number'))\n",
    "num2 = float(input('Enter the second Number'))\n",
    "\n",
    "num3 = num1 + num2\n",
    "\n",
    "#using fstring method \n",
    "print(f'the addition of two number as {num1} and{num2} is',num3)\n"
   ]
  },
  {
   "cell_type": "code",
   "execution_count": null,
   "id": "a57ecdf7",
   "metadata": {},
   "outputs": [
    {
     "name": "stdout",
     "output_type": "stream",
     "text": [
      "W\n",
      "W\n"
     ]
    }
   ],
   "source": [
    "#Strings Indexing and Slicing\n",
    "\n",
    "string = input('Enter the string')\n",
    "\n",
    "'''\n",
    "H e l l o   W o r l d\n",
    "0 1 2 3 4 5 6 7 8 9 10    :L--->R\n",
    "...............-3-2-1     :R-->L\n",
    "'''\n",
    "print(string[6])   #Indexing\n",
    "print(string[-5])  #Indexing"
   ]
  },
  {
   "cell_type": "code",
   "execution_count": 7,
   "id": "af965441",
   "metadata": {},
   "outputs": [
    {
     "name": "stdout",
     "output_type": "stream",
     "text": [
      "ell\n",
      "Hello Worl\n",
      "\n",
      "o Worl\n"
     ]
    }
   ],
   "source": [
    "# Concept of Slicing\n",
    "string = input('Enter the string')\n",
    "'''\n",
    "string[start:stop]\n",
    "Example:\n",
    "string = Hello World\n",
    "string = Hello World\n",
    "string[1:4]  ---> o/p :ell\n",
    "'''\n",
    "print(string[1:4])\n",
    "print(string[:-1])\n",
    "print(string[2:2])\n",
    "print(string[4:-1])\n"
   ]
  },
  {
   "cell_type": "code",
   "execution_count": 8,
   "id": "0c11e1cd",
   "metadata": {},
   "outputs": [
    {
     "name": "stdout",
     "output_type": "stream",
     "text": [
      "el ol\n"
     ]
    }
   ],
   "source": [
    "# Concept of Slicing\n",
    "string = input('Enter the string')\n",
    "'''\n",
    "string[start:stop:step]\n",
    "Example:\n",
    "string = Hello World\n",
    "string = Hello World\n",
    "string[1:4]  ---> o/p :ell\n",
    "'''\n",
    "print(string[1::2])"
   ]
  },
  {
   "cell_type": "code",
   "execution_count": 9,
   "id": "8827ec4c",
   "metadata": {},
   "outputs": [
    {
     "name": "stdout",
     "output_type": "stream",
     "text": [
      "Hlowloet h ol fpto rgamn\n",
      "o welcome to the world of python programmi\n",
      "gnimmargorp nohtyp fo dlrow eht ot emoclew olleH\n"
     ]
    }
   ],
   "source": [
    "#concept of Indexing and Slicing Together\n",
    "str = 'Hello welcome to the world of python programming'\n",
    "print(str[::2])\n",
    "print(str[4:-2:])\n",
    "print(str[::-1])"
   ]
  },
  {
   "cell_type": "code",
   "execution_count": 11,
   "id": "43696a4a",
   "metadata": {},
   "outputs": [
    {
     "name": "stdout",
     "output_type": "stream",
     "text": [
      "[10, 20, 30, 40]\n",
      "<class 'list'>\n",
      "[10, 20, 30, 40, 50]\n"
     ]
    }
   ],
   "source": [
    "# Data Structures in python programming\n",
    "\n",
    "'''\n",
    "1. List : []  . Mutable in Nature\n",
    "2. Tuple :() . Immutable in Nature\n",
    "3. Dictionary : {'key1':Value, 'key2',Value2} : Immutable in Nature\n",
    "4. sets  : {1,2,3,4,5} : Immutable in Nature\n",
    "'''\n",
    "# if Your are performming any computational software development program tuple is most preferred\n",
    "# List Definition \n",
    "\n",
    "lst = [10,20,30,40]\n",
    "print(lst)\n",
    "print(type(lst))\n",
    "# append() this is function which defined in class list \n",
    "# Therefore, append() is a method of class list \n",
    "# lst. append(50) :you are calling function using. operator\n",
    "lst.append(50)\n",
    "print(lst)"
   ]
  },
  {
   "cell_type": "code",
   "execution_count": null,
   "id": "081e7a3c",
   "metadata": {},
   "outputs": [],
   "source": []
  }
 ],
 "metadata": {
  "kernelspec": {
   "display_name": "base",
   "language": "python",
   "name": "python3"
  },
  "language_info": {
   "codemirror_mode": {
    "name": "ipython",
    "version": 3
   },
   "file_extension": ".py",
   "mimetype": "text/x-python",
   "name": "python",
   "nbconvert_exporter": "python",
   "pygments_lexer": "ipython3",
   "version": "3.12.7"
  }
 },
 "nbformat": 4,
 "nbformat_minor": 5
}
