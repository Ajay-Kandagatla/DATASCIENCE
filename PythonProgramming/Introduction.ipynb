{
 "cells": [
  {
   "cell_type": "markdown",
   "id": "a24b84b2",
   "metadata": {},
   "source": [
    "#### Introduction to python programming "
   ]
  },
  {
   "cell_type": "code",
   "execution_count": 1,
   "id": "f14e5c57",
   "metadata": {},
   "outputs": [
    {
     "data": {
      "text/plain": [
       "'\\nData types in python are as follows:\\n1.Integer\\n2.Float\\n3.string\\n'"
      ]
     },
     "execution_count": 1,
     "metadata": {},
     "output_type": "execute_result"
    }
   ],
   "source": [
    "# Variable Definition\n",
    "number = 100        #Defining Integer Variable\n",
    "decimal = 1000.890  #Defining Float Variable : Decimal Values \n",
    "string = 'Hello World' #Defining String: \"Text Information\"\n",
    "'''\n",
    "Data types in python are as follows:\n",
    "1.Integer\n",
    "2.Float\n",
    "3.string\n",
    "'''\n",
    "\n"
   ]
  },
  {
   "cell_type": "code",
   "execution_count": 2,
   "id": "511942a4",
   "metadata": {},
   "outputs": [
    {
     "name": "stdout",
     "output_type": "stream",
     "text": [
      "<class 'int'>\n",
      "<class 'float'>\n",
      "<class 'str'>\n"
     ]
    }
   ],
   "source": [
    "# Checking Datatype Variables\n",
    "print(type(number))\n",
    "print(type(decimal))\n",
    "print(type(string))\n",
    "\n"
   ]
  },
  {
   "cell_type": "code",
   "execution_count": 3,
   "id": "3df9d56c",
   "metadata": {},
   "outputs": [
    {
     "name": "stdout",
     "output_type": "stream",
     "text": [
      "100\n"
     ]
    }
   ],
   "source": [
    "# type casting of data type\n",
    "num = 100.2908383  #Datatype  :Float \n",
    "print(int(num))    #float is typecasted to int"
   ]
  },
  {
   "cell_type": "code",
   "execution_count": 4,
   "id": "d49f972b-edf6-4e63-a965-4734599dcfa3",
   "metadata": {},
   "outputs": [
    {
     "name": "stdout",
     "output_type": "stream",
     "text": [
      "<class 'str'>\n",
      "1000\n",
      "1000.0\n"
     ]
    }
   ],
   "source": [
    "# Using input function\n",
    "# input() :--> Function\n",
    "num =input('Enter the value')\n",
    "'''\n",
    "Whenever we use input function, the output of input function is always string\n",
    "'''\n",
    "\n",
    "print(type(num))\n",
    "#doing typecasting\n",
    "print(int(num))   #Typecasting string value to integer\n",
    "print(float(num)) #typecasting string value to float\n"
   ]
  },
  {
   "cell_type": "code",
   "execution_count": 5,
   "id": "aec12dc3-8c68-4772-9084-ccfd91c8cf24",
   "metadata": {},
   "outputs": [
    {
     "name": "stdout",
     "output_type": "stream",
     "text": [
      "tousif Tousif\n",
      "<class 'str'>\n"
     ]
    }
   ],
   "source": [
    "# Ask the user ro enter the string using input finction\n",
    "\n",
    "str =input('Enter the name of the person: ')\n",
    "print('tousif',str)\n",
    "print(type(str))"
   ]
  },
  {
   "cell_type": "code",
   "execution_count": 6,
   "id": "819b7a1c-90b3-4803-abe6-44b356ee14fa",
   "metadata": {},
   "outputs": [
    {
     "name": "stdout",
     "output_type": "stream",
     "text": [
      "the addition of two number as 10.0 and20.0 is 30.0\n"
     ]
    }
   ],
   "source": [
    "# perform Mathmatical Operation \n",
    "num1 = float(input('Enter the first Number'))\n",
    "num2 = float(input('Enter the second Number'))\n",
    "\n",
    "num3 = num1 + num2\n",
    "\n",
    "#using fstring method \n",
    "print(f'the addition of two number as {num1} and{num2} is',num3)\n"
   ]
  },
  {
   "cell_type": "code",
   "execution_count": 7,
   "id": "a57ecdf7",
   "metadata": {},
   "outputs": [
    {
     "name": "stdout",
     "output_type": "stream",
     "text": [
      "W\n",
      "W\n"
     ]
    }
   ],
   "source": [
    "#Strings Indexing and Slicing\n",
    "\n",
    "string = input('Enter the string')\n",
    "\n",
    "'''\n",
    "H e l l o   W o r l d\n",
    "0 1 2 3 4 5 6 7 8 9 10    :L--->R\n",
    "...............-3-2-1     :R-->L\n",
    "'''\n",
    "print(string[6])   #Indexing\n",
    "print(string[-5])  #Indexing"
   ]
  },
  {
   "cell_type": "code",
   "execution_count": 8,
   "id": "af965441",
   "metadata": {},
   "outputs": [
    {
     "name": "stdout",
     "output_type": "stream",
     "text": [
      "ell\n",
      "Hello World\n",
      "\n",
      "o World\n"
     ]
    }
   ],
   "source": [
    "# Concept of Slicing\n",
    "string = input('Enter the string')\n",
    "'''\n",
    "string[start:stop]\n",
    "Example:\n",
    "string = Hello World\n",
    "string = Hello World\n",
    "string[1:4]  ---> o/p :ell\n",
    "'''\n",
    "print(string[1:4])\n",
    "print(string[:-1])\n",
    "print(string[2:2])\n",
    "print(string[4:-1])\n"
   ]
  },
  {
   "cell_type": "code",
   "execution_count": 9,
   "id": "0c11e1cd",
   "metadata": {},
   "outputs": [
    {
     "name": "stdout",
     "output_type": "stream",
     "text": [
      "el ol\n"
     ]
    }
   ],
   "source": [
    "# Concept of Slicing\n",
    "string = input('Enter the string')\n",
    "'''\n",
    "string[start:stop:step]\n",
    "Example:\n",
    "string = Hello World\n",
    "string = Hello World\n",
    "string[1:4]  ---> o/p :ell\n",
    "'''\n",
    "print(string[1::2])"
   ]
  },
  {
   "cell_type": "code",
   "execution_count": 10,
   "id": "8827ec4c",
   "metadata": {},
   "outputs": [
    {
     "name": "stdout",
     "output_type": "stream",
     "text": [
      "Hlowloet h ol fpto rgamn\n",
      "o welcome to the world of python programmi\n",
      "gnimmargorp nohtyp fo dlrow eht ot emoclew olleH\n"
     ]
    }
   ],
   "source": [
    "#concept of Indexing and Slicing Together\n",
    "str = 'Hello welcome to the world of python programming'\n",
    "print(str[::2])\n",
    "print(str[4:-2:])\n",
    "print(str[::-1])"
   ]
  },
  {
   "cell_type": "code",
   "execution_count": 11,
   "id": "43696a4a",
   "metadata": {},
   "outputs": [
    {
     "name": "stdout",
     "output_type": "stream",
     "text": [
      "[10, 20, 30, 40]\n",
      "<class 'list'>\n",
      "[10, 20, 30, 40, 50]\n"
     ]
    }
   ],
   "source": [
    "# Data Structures in python programming\n",
    "\n",
    "'''\n",
    "1. List : []  . Mutable in Nature\n",
    "2. Tuple :() . Immutable in Nature\n",
    "3. Dictionary : {'key1':Value, 'key2',Value2} : Immutable in Nature\n",
    "4. sets  : {1,2,3,4,5} : Immutable in Nature\n",
    "'''\n",
    "# if Your are performming any computational software development program tuple is most preferred\n",
    "# List Definition \n",
    "\n",
    "lst = [10,20,30,40]\n",
    "print(lst)\n",
    "print(type(lst))\n",
    "# append() this is function which defined in class list \n",
    "# Therefore, append() is a method of class list \n",
    "# lst. append(50) :you are calling function using. operator\n",
    "lst.append(50)\n",
    "print(lst)"
   ]
  },
  {
   "cell_type": "code",
   "execution_count": null,
   "id": "081e7a3c",
   "metadata": {},
   "outputs": [
    {
     "name": "stdout",
     "output_type": "stream",
     "text": [
      "[50, 50, 50, 5, 10, 20, 30, 40, 50]\n"
     ]
    }
   ],
   "source": [
    "lst.insert(0,50) # This function will add the value 50 at an index 0   \n",
    "print(lst)"
   ]
  },
  {
   "cell_type": "code",
   "execution_count": 17,
   "id": "d707087d",
   "metadata": {},
   "outputs": [
    {
     "data": {
      "text/plain": [
       "4"
      ]
     },
     "execution_count": 17,
     "metadata": {},
     "output_type": "execute_result"
    }
   ],
   "source": [
    "lst.count(50)  #This function will count of values "
   ]
  },
  {
   "cell_type": "code",
   "execution_count": 19,
   "id": "4f8028eb",
   "metadata": {},
   "outputs": [
    {
     "name": "stdout",
     "output_type": "stream",
     "text": [
      "[50, 50, 50, 5, 10, 20, 30]\n"
     ]
    }
   ],
   "source": [
    "lst.pop()  #This function will remove the last number present in the list\n",
    "print(lst)"
   ]
  },
  {
   "cell_type": "code",
   "execution_count": 20,
   "id": "23e0c581",
   "metadata": {},
   "outputs": [
    {
     "name": "stdout",
     "output_type": "stream",
     "text": [
      "[50, 50, 5, 10, 20, 30]\n"
     ]
    }
   ],
   "source": [
    "lst.remove(50) #This function will remove the specified value\n",
    "print(lst)"
   ]
  },
  {
   "cell_type": "code",
   "execution_count": 24,
   "id": "05d3ca7e",
   "metadata": {},
   "outputs": [
    {
     "name": "stdout",
     "output_type": "stream",
     "text": [
      "[10, 30, 40, 70]\n"
     ]
    }
   ],
   "source": [
    "lst = [10,10,20,30,40,50,70,80]\n",
    "lst.pop()\n",
    "lst.remove(10)\n",
    "lst.remove(20)\n",
    "lst.remove(50)\n",
    "print(lst)"
   ]
  },
  {
   "cell_type": "code",
   "execution_count": 25,
   "id": "9ad86adb",
   "metadata": {},
   "outputs": [
    {
     "name": "stdout",
     "output_type": "stream",
     "text": [
      "4\n"
     ]
    }
   ],
   "source": [
    "#Calculate length of the number present in list\n",
    "#len() :function\n",
    "print(len(lst))"
   ]
  },
  {
   "cell_type": "code",
   "execution_count": 26,
   "id": "bd101f5a",
   "metadata": {},
   "outputs": [
    {
     "name": "stdout",
     "output_type": "stream",
     "text": [
      "[10, 30, 50]\n",
      "[60, 50, 40, 30, 20, 10]\n",
      "30\n"
     ]
    }
   ],
   "source": [
    "#concept of Indexing and Slicing on List \n",
    "lst = [10,20,30,40,50,60]\n",
    "print(lst[0::2])\n",
    "print(lst[::-1])\n",
    "print(lst[2])\n"
   ]
  },
  {
   "cell_type": "code",
   "execution_count": 27,
   "id": "d201b39f",
   "metadata": {},
   "outputs": [],
   "source": [
    "#Example 1\n",
    "lst= [10,20,30,[40,50,60],[1,[2,[3,4,5,6],7],8,9],10]\n"
   ]
  },
  {
   "cell_type": "code",
   "execution_count": 28,
   "id": "c3d2d4cf",
   "metadata": {},
   "outputs": [
    {
     "data": {
      "text/plain": [
       "5"
      ]
     },
     "execution_count": 28,
     "metadata": {},
     "output_type": "execute_result"
    }
   ],
   "source": [
    "#o/p :5\n",
    "lst[4][1][1][2]"
   ]
  },
  {
   "cell_type": "code",
   "execution_count": 30,
   "id": "fd800069",
   "metadata": {},
   "outputs": [],
   "source": [
    "# Example 2\n",
    "lst = [10,20,[1,2,3,[10,20,[30,[40,50,[60],70],90],9,100],1000],2000,[10000]]"
   ]
  },
  {
   "cell_type": "code",
   "execution_count": 32,
   "id": "4fa7bb1e",
   "metadata": {},
   "outputs": [
    {
     "data": {
      "text/plain": [
       "60"
      ]
     },
     "execution_count": 32,
     "metadata": {},
     "output_type": "execute_result"
    }
   ],
   "source": [
    "# O/P :60\n",
    "lst[2][3][2][1][2][0]"
   ]
  },
  {
   "cell_type": "code",
   "execution_count": 33,
   "id": "23eadbf8",
   "metadata": {},
   "outputs": [],
   "source": [
    "#Example 3\n",
    "lst = [10,[100,200,300,[400,[500,[[[600],700],1],10],20]]]"
   ]
  },
  {
   "cell_type": "code",
   "execution_count": 34,
   "id": "b19a3337",
   "metadata": {},
   "outputs": [
    {
     "data": {
      "text/plain": [
       "600"
      ]
     },
     "execution_count": 34,
     "metadata": {},
     "output_type": "execute_result"
    }
   ],
   "source": [
    "lst[1][3][1][1][0][0][0]"
   ]
  },
  {
   "cell_type": "code",
   "execution_count": 35,
   "id": "20afac24",
   "metadata": {},
   "outputs": [
    {
     "data": {
      "text/plain": [
       "[800, 900, 1000]"
      ]
     },
     "execution_count": 35,
     "metadata": {},
     "output_type": "execute_result"
    }
   ],
   "source": [
    "# Example 4\n",
    "# o/p : [800,900,1000]\n",
    "lst=[10,[100,200,300,[400,[500,[[[600,700,800,900,1000,1100,1200],700],1],10],20]]]\n",
    "lst[1][3][1][1][0][0][2:5]"
   ]
  },
  {
   "cell_type": "code",
   "execution_count": null,
   "id": "73c75efb",
   "metadata": {},
   "outputs": [],
   "source": []
  }
 ],
 "metadata": {
  "kernelspec": {
   "display_name": "base",
   "language": "python",
   "name": "python3"
  },
  "language_info": {
   "codemirror_mode": {
    "name": "ipython",
    "version": 3
   },
   "file_extension": ".py",
   "mimetype": "text/x-python",
   "name": "python",
   "nbconvert_exporter": "python",
   "pygments_lexer": "ipython3",
   "version": "3.12.7"
  }
 },
 "nbformat": 4,
 "nbformat_minor": 5
}
