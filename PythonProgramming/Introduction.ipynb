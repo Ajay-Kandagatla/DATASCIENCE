{
 "cells": [
  {
   "cell_type": "markdown",
   "id": "a24b84b2",
   "metadata": {},
   "source": [
    "#### Introduction to python programming "
   ]
  },
  {
   "cell_type": "code",
   "execution_count": 1,
   "id": "f14e5c57",
   "metadata": {},
   "outputs": [
    {
     "data": {
      "text/plain": [
       "'\\nData types in python are as follows:\\n1.Integer\\n2.Float\\n3.string\\n'"
      ]
     },
     "execution_count": 1,
     "metadata": {},
     "output_type": "execute_result"
    }
   ],
   "source": [
    "# Variable Definition\n",
    "number = 100        #Defining Integer Variable\n",
    "decimal = 1000.890  #Defining Float Variable : Decimal Values \n",
    "string = 'Hello World' #Defining String: \"Text Information\"\n",
    "'''\n",
    "Data types in python are as follows:\n",
    "1.Integer\n",
    "2.Float\n",
    "3.string\n",
    "'''\n",
    "\n"
   ]
  },
  {
   "cell_type": "code",
   "execution_count": 2,
   "id": "511942a4",
   "metadata": {},
   "outputs": [
    {
     "name": "stdout",
     "output_type": "stream",
     "text": [
      "<class 'int'>\n",
      "<class 'float'>\n",
      "<class 'str'>\n"
     ]
    }
   ],
   "source": [
    "# Checking Datatype Variables\n",
    "print(type(number))\n",
    "print(type(decimal))\n",
    "print(type(string))\n",
    "\n"
   ]
  },
  {
   "cell_type": "code",
   "execution_count": 3,
   "id": "3df9d56c",
   "metadata": {},
   "outputs": [
    {
     "name": "stdout",
     "output_type": "stream",
     "text": [
      "100\n"
     ]
    }
   ],
   "source": [
    "# type casting of data type\n",
    "num = 100.2908383  #Datatype  :Float \n",
    "print(int(num))    #float is typecasted to int"
   ]
  },
  {
   "cell_type": "code",
   "execution_count": null,
   "id": "d49f972b-edf6-4e63-a965-4734599dcfa3",
   "metadata": {},
   "outputs": [],
   "source": [
    "# Using input function\n",
    "# input() :--> Function\n",
    "num =input('Enter the value')\n",
    "'''\n",
    "Whenever we use input function, the output of input function is always string\n",
    "'''\n",
    "\n",
    "print(type(num))\n",
    "#doing typecasting\n",
    "print(int(num))   #Typecasting string value to integer\n",
    "print(float(num)) #typecasting string value to float\n"
   ]
  },
  {
   "cell_type": "code",
   "execution_count": null,
   "id": "aec12dc3-8c68-4772-9084-ccfd91c8cf24",
   "metadata": {},
   "outputs": [
    {
     "name": "stdout",
     "output_type": "stream",
     "text": [
      "tousif 20\n",
      "<class 'str'>\n"
     ]
    }
   ],
   "source": [
    "# Ask the user ro enter the string using input finction\n",
    "\n",
    "str =input('Enter the name of the person: ')\n",
    "print('tousif',str)\n",
    "print(type(str))"
   ]
  },
  {
   "cell_type": "code",
   "execution_count": null,
   "id": "819b7a1c-90b3-4803-abe6-44b356ee14fa",
   "metadata": {},
   "outputs": [
    {
     "ename": "ValueError",
     "evalue": "could not convert string to float: ''",
     "output_type": "error",
     "traceback": [
      "\u001b[1;31m---------------------------------------------------------------------------\u001b[0m",
      "\u001b[1;31mValueError\u001b[0m                                Traceback (most recent call last)",
      "Cell \u001b[1;32mIn[27], line 2\u001b[0m\n\u001b[0;32m      1\u001b[0m \u001b[38;5;66;03m# perform Mathmatical Operation \u001b[39;00m\n\u001b[1;32m----> 2\u001b[0m num1 \u001b[38;5;241m=\u001b[39m \u001b[38;5;28mfloat\u001b[39m(\u001b[38;5;28minput\u001b[39m(\u001b[38;5;124m'\u001b[39m\u001b[38;5;124mEnter the first Number\u001b[39m\u001b[38;5;124m'\u001b[39m))\n\u001b[0;32m      3\u001b[0m num2 \u001b[38;5;241m=\u001b[39m \u001b[38;5;28mfloat\u001b[39m(\u001b[38;5;28minput\u001b[39m(\u001b[38;5;124m'\u001b[39m\u001b[38;5;124mEnter the second Number\u001b[39m\u001b[38;5;124m'\u001b[39m))\n\u001b[0;32m      5\u001b[0m num3 \u001b[38;5;241m=\u001b[39m num1 \u001b[38;5;241m+\u001b[39m num2\n",
      "\u001b[1;31mValueError\u001b[0m: could not convert string to float: ''"
     ]
    }
   ],
   "source": [
    "# perform Mathmatical Operation \n",
    "num1 = float(input('Enter the first Number'))\n",
    "num2 = float(input('Enter the second Number'))\n",
    "\n",
    "num3 = num1 + num2\n",
    "\n",
    "#using fstring method \n",
    "print(f'the addition of two number as {num1} and{num2} is',num3)\n"
   ]
  },
  {
   "cell_type": "code",
   "execution_count": null,
   "id": "a57ecdf7",
   "metadata": {},
   "outputs": [
    {
     "ename": "IndexError",
     "evalue": "string index out of range",
     "output_type": "error",
     "traceback": [
      "\u001b[1;31m---------------------------------------------------------------------------\u001b[0m",
      "\u001b[1;31mIndexError\u001b[0m                                Traceback (most recent call last)",
      "Cell \u001b[1;32mIn[16], line 10\u001b[0m\n\u001b[0;32m      3\u001b[0m string \u001b[38;5;241m=\u001b[39m \u001b[38;5;28minput\u001b[39m(\u001b[38;5;124m'\u001b[39m\u001b[38;5;124mEnter the string\u001b[39m\u001b[38;5;124m'\u001b[39m)\n\u001b[0;32m      5\u001b[0m \u001b[38;5;124;03m'''\u001b[39;00m\n\u001b[0;32m      6\u001b[0m \u001b[38;5;124;03mH e l l o   W o r l d\u001b[39;00m\n\u001b[0;32m      7\u001b[0m \u001b[38;5;124;03m0 1 2 3 4 5 6 7 8 9 10    :L--->R\u001b[39;00m\n\u001b[0;32m      8\u001b[0m \u001b[38;5;124;03m...............-3-2-1     :R-->L\u001b[39;00m\n\u001b[0;32m      9\u001b[0m \u001b[38;5;124;03m'''\u001b[39;00m\n\u001b[1;32m---> 10\u001b[0m \u001b[38;5;28mprint\u001b[39m(string[\u001b[38;5;241m6\u001b[39m])   \u001b[38;5;66;03m#Indexing\u001b[39;00m\n\u001b[0;32m     11\u001b[0m \u001b[38;5;28mprint\u001b[39m(string[\u001b[38;5;241m-\u001b[39m\u001b[38;5;241m5\u001b[39m])\n",
      "\u001b[1;31mIndexError\u001b[0m: string index out of range"
     ]
    }
   ],
   "source": [
    "#Strings Indexing and Slicing\n",
    "\n",
    "string = input('Enter the string')\n",
    "\n",
    "'''\n",
    "H e l l o   W o r l d\n",
    "0 1 2 3 4 5 6 7 8 9 10    :L--->R\n",
    "...............-3-2-1     :R-->L\n",
    "'''\n",
    "print(string[6])   #Indexing\n",
    "print(string[-5])  #Indexing"
   ]
  },
  {
   "cell_type": "code",
   "execution_count": null,
   "id": "af965441",
   "metadata": {},
   "outputs": [
    {
     "name": "stdout",
     "output_type": "stream",
     "text": [
      "ell\n",
      "Hello World\n",
      "\n",
      "o World\n"
     ]
    }
   ],
   "source": [
    "# Concept of Slicing\n",
    "string = input('Enter the string')\n",
    "'''\n",
    "string[start:stop]\n",
    "Example:\n",
    "string = Hello World\n",
    "string = Hello World\n",
    "string[1:4]  ---> o/p :ell\n",
    "'''\n",
    "print(string[1:4])\n",
    "print(string[:-1])\n",
    "print(string[2:2])\n",
    "print(string[4:-1])\n"
   ]
  },
  {
   "cell_type": "code",
   "execution_count": null,
   "id": "0c11e1cd",
   "metadata": {},
   "outputs": [
    {
     "name": "stdout",
     "output_type": "stream",
     "text": [
      "el ol\n"
     ]
    }
   ],
   "source": [
    "# Concept of Slicing\n",
    "string = input('Enter the string')\n",
    "'''\n",
    "string[start:stop:step]\n",
    "Example:\n",
    "string = Hello World\n",
    "string = Hello World\n",
    "string[1:4]  ---> o/p :ell\n",
    "'''\n",
    "print(string[1::2])"
   ]
  },
  {
   "cell_type": "code",
   "execution_count": null,
   "id": "8827ec4c",
   "metadata": {},
   "outputs": [
    {
     "name": "stdout",
     "output_type": "stream",
     "text": [
      "Hlowloet h ol fpto rgamn\n",
      "o welcome to the world of python programmi\n",
      "gnimmargorp nohtyp fo dlrow eht ot emoclew olleH\n"
     ]
    }
   ],
   "source": [
    "#concept of Indexing and Slicing Together\n",
    "str = 'Hello welcome to the world of python programming'\n",
    "print(str[::2])\n",
    "print(str[4:-2:])\n",
    "print(str[::-1])"
   ]
  },
  {
   "cell_type": "code",
   "execution_count": null,
   "id": "43696a4a",
   "metadata": {},
   "outputs": [
    {
     "name": "stdout",
     "output_type": "stream",
     "text": [
      "[10, 20, 30, 40]\n",
      "<class 'list'>\n",
      "[10, 20, 30, 40, 50]\n"
     ]
    }
   ],
   "source": [
    "# Data Structures in python programming\n",
    "\n",
    "'''\n",
    "1. List : []  . Mutable in Nature\n",
    "2. Tuple :() . Immutable in Nature\n",
    "3. Dictionary : {'key1':Value, 'key2',Value2} : Immutable in Nature\n",
    "4. sets  : {1,2,3,4,5} : Immutable in Nature\n",
    "'''\n",
    "# if Your are performming any computational software development program tuple is most preferred\n",
    "# List Definition \n",
    "\n",
    "lst = [10,20,30,40]\n",
    "print(lst)\n",
    "print(type(lst))\n",
    "# append() this is function which defined in class list \n",
    "# Therefore, append() is a method of class list \n",
    "# lst. append(50) :you are calling function using. operator\n",
    "lst.append(50)\n",
    "print(lst)"
   ]
  },
  {
   "cell_type": "code",
   "execution_count": null,
   "id": "081e7a3c",
   "metadata": {},
   "outputs": [
    {
     "name": "stdout",
     "output_type": "stream",
     "text": [
      "[50, 50, 50, 5, 10, 20, 30, 40, 50]\n"
     ]
    }
   ],
   "source": [
    "lst.insert(0,50) # This function will add the value 50 at an index 0   \n",
    "print(lst)"
   ]
  },
  {
   "cell_type": "code",
   "execution_count": null,
   "id": "d707087d",
   "metadata": {},
   "outputs": [
    {
     "data": {
      "text/plain": [
       "4"
      ]
     },
     "execution_count": 17,
     "metadata": {},
     "output_type": "execute_result"
    }
   ],
   "source": [
    "lst.count(50)  #This function will count of values "
   ]
  },
  {
   "cell_type": "code",
   "execution_count": null,
   "id": "4f8028eb",
   "metadata": {},
   "outputs": [
    {
     "name": "stdout",
     "output_type": "stream",
     "text": [
      "[50, 50, 50, 5, 10, 20, 30]\n"
     ]
    }
   ],
   "source": [
    "lst.pop()  #This function will remove the last number present in the list\n",
    "print(lst)"
   ]
  },
  {
   "cell_type": "code",
   "execution_count": null,
   "id": "23e0c581",
   "metadata": {},
   "outputs": [
    {
     "name": "stdout",
     "output_type": "stream",
     "text": [
      "[50, 50, 5, 10, 20, 30]\n"
     ]
    }
   ],
   "source": [
    "lst.remove(50) #This function will remove the specified value\n",
    "print(lst)"
   ]
  },
  {
   "cell_type": "code",
   "execution_count": null,
   "id": "05d3ca7e",
   "metadata": {},
   "outputs": [
    {
     "name": "stdout",
     "output_type": "stream",
     "text": [
      "[10, 30, 40, 70]\n"
     ]
    }
   ],
   "source": [
    "lst = [10,10,20,30,40,50,70,80]\n",
    "lst.pop()\n",
    "lst.remove(10)\n",
    "lst.remove(20)\n",
    "lst.remove(50)\n",
    "print(lst)"
   ]
  },
  {
   "cell_type": "code",
   "execution_count": null,
   "id": "9ad86adb",
   "metadata": {},
   "outputs": [
    {
     "name": "stdout",
     "output_type": "stream",
     "text": [
      "4\n"
     ]
    }
   ],
   "source": [
    "#Calculate length of the number present in list\n",
    "#len() :function\n",
    "print(len(lst))"
   ]
  },
  {
   "cell_type": "code",
   "execution_count": null,
   "id": "bd101f5a",
   "metadata": {},
   "outputs": [
    {
     "name": "stdout",
     "output_type": "stream",
     "text": [
      "[10, 30, 50]\n",
      "[60, 50, 40, 30, 20, 10]\n",
      "30\n"
     ]
    }
   ],
   "source": [
    "#concept of Indexing and Slicing on List \n",
    "lst = [10,20,30,40,50,60]\n",
    "print(lst[0::2])\n",
    "print(lst[::-1])\n",
    "print(lst[2])\n"
   ]
  },
  {
   "cell_type": "code",
   "execution_count": null,
   "id": "d201b39f",
   "metadata": {},
   "outputs": [],
   "source": [
    "#Example 1\n",
    "lst= [10,20,30,[40,50,60],[1,[2,[3,4,5,6],7],8,9],10]\n"
   ]
  },
  {
   "cell_type": "code",
   "execution_count": null,
   "id": "c3d2d4cf",
   "metadata": {},
   "outputs": [
    {
     "data": {
      "text/plain": [
       "5"
      ]
     },
     "execution_count": 28,
     "metadata": {},
     "output_type": "execute_result"
    }
   ],
   "source": [
    "#o/p :5\n",
    "lst[4][1][1][2]"
   ]
  },
  {
   "cell_type": "code",
   "execution_count": null,
   "id": "fd800069",
   "metadata": {},
   "outputs": [],
   "source": [
    "# Example 2\n",
    "lst = [10,20,[1,2,3,[10,20,[30,[40,50,[60],70],90],9,100],1000],2000,[10000]]"
   ]
  },
  {
   "cell_type": "code",
   "execution_count": null,
   "id": "4fa7bb1e",
   "metadata": {},
   "outputs": [
    {
     "data": {
      "text/plain": [
       "60"
      ]
     },
     "execution_count": 32,
     "metadata": {},
     "output_type": "execute_result"
    }
   ],
   "source": [
    "# O/P :60\n",
    "lst[2][3][2][1][2][0]"
   ]
  },
  {
   "cell_type": "code",
   "execution_count": null,
   "id": "23eadbf8",
   "metadata": {},
   "outputs": [],
   "source": [
    "#Example 3\n",
    "lst = [10,[100,200,300,[400,[500,[[[600],700],1],10],20]]]"
   ]
  },
  {
   "cell_type": "code",
   "execution_count": null,
   "id": "b19a3337",
   "metadata": {},
   "outputs": [
    {
     "data": {
      "text/plain": [
       "600"
      ]
     },
     "execution_count": 34,
     "metadata": {},
     "output_type": "execute_result"
    }
   ],
   "source": [
    "lst[1][3][1][1][0][0][0]"
   ]
  },
  {
   "cell_type": "code",
   "execution_count": null,
   "id": "20afac24",
   "metadata": {},
   "outputs": [
    {
     "data": {
      "text/plain": [
       "[800, 900, 1000]"
      ]
     },
     "execution_count": 35,
     "metadata": {},
     "output_type": "execute_result"
    }
   ],
   "source": [
    "# Example 4\n",
    "# o/p : [800,900,1000]\n",
    "lst=[10,[100,200,300,[400,[500,[[[600,700,800,900,1000,1100,1200],700],1],10],20]]]\n",
    "lst[1][3][1][1][0][0][2:5]"
   ]
  },
  {
   "cell_type": "code",
   "execution_count": null,
   "id": "73c75efb",
   "metadata": {},
   "outputs": [
    {
     "name": "stdout",
     "output_type": "stream",
     "text": [
      "<class 'tuple'>\n"
     ]
    },
    {
     "data": {
      "text/plain": [
       "1"
      ]
     },
     "execution_count": 5,
     "metadata": {},
     "output_type": "execute_result"
    }
   ],
   "source": [
    "# Tuple Definition \n",
    "tuple = (10,20,30,40)\n",
    "print(type(tup))\n",
    "tup.count(10)"
   ]
  },
  {
   "cell_type": "code",
   "execution_count": null,
   "id": "b1d3b40e",
   "metadata": {},
   "outputs": [
    {
     "data": {
      "text/plain": [
       "0"
      ]
     },
     "execution_count": 6,
     "metadata": {},
     "output_type": "execute_result"
    }
   ],
   "source": [
    "tuple.index(10)"
   ]
  },
  {
   "cell_type": "code",
   "execution_count": null,
   "id": "871abea2",
   "metadata": {},
   "outputs": [],
   "source": [
    "#tuple indexing and slicing \n",
    "tuple = (10,20,30,[40,50,(30,40,(60,70,80))])"
   ]
  },
  {
   "cell_type": "code",
   "execution_count": null,
   "id": "8cd28620",
   "metadata": {},
   "outputs": [
    {
     "data": {
      "text/plain": [
       "(70, 80)"
      ]
     },
     "execution_count": 9,
     "metadata": {},
     "output_type": "execute_result"
    }
   ],
   "source": [
    "# Example :\n",
    "#o/p70:80\n",
    "\n",
    "tuple [3][2][2][1:]"
   ]
  },
  {
   "cell_type": "code",
   "execution_count": null,
   "id": "14f4d51a",
   "metadata": {},
   "outputs": [
    {
     "name": "stdout",
     "output_type": "stream",
     "text": [
      "The value is 10\n"
     ]
    }
   ],
   "source": [
    "# Conditional statement\n",
    "'''\n",
    "if condition==True:\n",
    "perform operation inside the loop\n",
    "els:\n",
    "perform this  operation \n",
    "note:= :Assignment operator\n",
    "== : comparison operator\n",
    "'''\n",
    "num = 10\n",
    "\n",
    "if num ==10:\n",
    "    print('The value is 10')\n",
    "else :\n",
    "    print('The value is not 10')\n",
    "        "
   ]
  },
  {
   "cell_type": "code",
   "execution_count": null,
   "id": "84b95a5a",
   "metadata": {},
   "outputs": [
    {
     "name": "stdout",
     "output_type": "stream",
     "text": [
      "The given string is palindrom\n"
     ]
    }
   ],
   "source": [
    "# check the given string is palindrom or not \n",
    "\n",
    "text ='dad'\n",
    "text1 = text[::-1]\n",
    "\n",
    "if text == text1:\n",
    "    print('The given string is palindrom')\n",
    "else: \n",
    "    print('The givenn string is not a palindrom')"
   ]
  },
  {
   "cell_type": "code",
   "execution_count": null,
   "id": "b80bec70",
   "metadata": {},
   "outputs": [
    {
     "data": {
      "text/plain": [
       "'\\nif condition:\\nstatement \\nelif condition:\\nstatement \\nelse:\\nstatement\\n'"
      ]
     },
     "execution_count": 12,
     "metadata": {},
     "output_type": "execute_result"
    }
   ],
   "source": [
    "'''\n",
    "if condition:\n",
    "statement \n",
    "elif condition:\n",
    "statement \n",
    "else:\n",
    "statement\n",
    "'''"
   ]
  },
  {
   "cell_type": "code",
   "execution_count": null,
   "id": "a0321374",
   "metadata": {},
   "outputs": [
    {
     "name": "stdout",
     "output_type": "stream",
     "text": [
      "poor student\n"
     ]
    }
   ],
   "source": [
    "''' \n",
    "marks >80 : Best student \n",
    "marks between 60 to 79 :Good student \n",
    "marks between 50 to 59 :Average student \n",
    "marks< 49 : poor student \n",
    "'''\n",
    "\n",
    "marks = float(input('Enter Marks of the student: '))\n",
    "\n",
    "if marks >= 80:\n",
    "    print ('Best student')\n",
    "elif marks <80 and marks > 60:\n",
    "    print('Good student')\n",
    "elif marks <60 and marks > 50:\n",
    "    print ('Average student')\n",
    "else:\n",
    "    print('poor student')"
   ]
  },
  {
   "cell_type": "code",
   "execution_count": null,
   "id": "e0f28462",
   "metadata": {},
   "outputs": [
    {
     "name": "stdout",
     "output_type": "stream",
     "text": [
      "check your transaction, once again\n"
     ]
    }
   ],
   "source": [
    "''' \n",
    "Balance = 10000\n",
    "Withdraw = amount\n",
    "threshould = 2000\n",
    "'''\n",
    "\n",
    "balance = 10000\n",
    "threshould = 2000\n",
    "withdraw = float(input('Enter the amout to withdraw'))\n",
    "\n",
    "if withdraw >= balance:\n",
    "    print('insufficient balance')\n",
    "if withdraw <= balance:\n",
    "    new_balance =balance - withdraw\n",
    "if new_balance >= 2000:\n",
    "    print('New balance is',new_balance)\n",
    "else:\n",
    "    print('check your transaction, once again')"
   ]
  },
  {
   "cell_type": "code",
   "execution_count": null,
   "id": "85e7a343",
   "metadata": {},
   "outputs": [
    {
     "name": "stdout",
     "output_type": "stream",
     "text": [
      "1\n",
      "2\n",
      "3\n",
      "4\n",
      "5\n",
      "6\n",
      "7\n",
      "8\n",
      "9\n",
      "10\n"
     ]
    }
   ],
   "source": [
    "# For Loop \n",
    "for i in range(1,11):\n",
    "    print(i)"
   ]
  },
  {
   "cell_type": "code",
   "execution_count": null,
   "id": "7826acf8",
   "metadata": {},
   "outputs": [
    {
     "name": "stdout",
     "output_type": "stream",
     "text": [
      "1 2 3 4 5 6 7 8 9 10 "
     ]
    }
   ],
   "source": [
    "for i in range (1,11):\n",
    "    print(i,end = \" \")"
   ]
  },
  {
   "cell_type": "code",
   "execution_count": null,
   "id": "a2f9a399",
   "metadata": {},
   "outputs": [
    {
     "name": "stdout",
     "output_type": "stream",
     "text": [
      "*\n",
      "**\n",
      "***\n",
      "****\n",
      "*****\n"
     ]
    }
   ],
   "source": [
    "''' \n",
    "*\n",
    "**\n",
    "***\n",
    "****\n",
    "*****\n",
    "'''\n",
    "for i in range(1,6):\n",
    "    print('*'*i,) "
   ]
  },
  {
   "cell_type": "code",
   "execution_count": null,
   "id": "afa35095",
   "metadata": {},
   "outputs": [
    {
     "name": "stdout",
     "output_type": "stream",
     "text": [
      "*\n",
      "****\n",
      "*********\n",
      "****************\n",
      "*************************\n"
     ]
    }
   ],
   "source": [
    "for i in range(1,6):\n",
    "    print('*'*i*i)"
   ]
  },
  {
   "cell_type": "code",
   "execution_count": null,
   "id": "600602b5",
   "metadata": {},
   "outputs": [
    {
     "name": "stdout",
     "output_type": "stream",
     "text": [
      "[0]\n",
      "[0, 1]\n",
      "[0, 1, 4]\n",
      "[0, 1, 4, 9]\n",
      "[0, 1, 4, 9, 16]\n",
      "[0, 1, 4, 9, 16, 25]\n",
      "[0, 1, 4, 9, 16, 25, 36]\n",
      "[0, 1, 4, 9, 16, 25, 36, 49]\n",
      "[0, 1, 4, 9, 16, 25, 36, 49, 64]\n",
      "[0, 1, 4, 9, 16, 25, 36, 49, 64, 81]\n"
     ]
    }
   ],
   "source": [
    "# for loop \n",
    "list= []\n",
    "for i in range (0,10):\n",
    "    list.append(i*i)\n",
    "    print(list)"
   ]
  },
  {
   "cell_type": "code",
   "execution_count": null,
   "id": "ba1f206e",
   "metadata": {},
   "outputs": [
    {
     "data": {
      "text/plain": [
       "[0, 1, 2, 3, 4, 5, 6, 7, 8, 9]"
      ]
     },
     "execution_count": 4,
     "metadata": {},
     "output_type": "execute_result"
    }
   ],
   "source": [
    "# list comprehension \n",
    "# variable = [expression for count in range(x1,x2)]\n",
    "square = [i*1 for i in range(0,10)]\n",
    "square"
   ]
  },
  {
   "cell_type": "code",
   "execution_count": null,
   "id": "16398aaf",
   "metadata": {},
   "outputs": [
    {
     "data": {
      "text/plain": [
       "[False, True, False, True, False, True, False, True, False, True]"
      ]
     },
     "execution_count": 8,
     "metadata": {},
     "output_type": "execute_result"
    }
   ],
   "source": [
    "odd = [i%2 == 1 for i in range(0,10)]\n",
    "odd"
   ]
  },
  {
   "cell_type": "code",
   "execution_count": null,
   "id": "6db9df41",
   "metadata": {},
   "outputs": [
    {
     "data": {
      "text/plain": [
       "[0, 1, 4, 9, 16, 25, 36, 49, 64, 81]"
      ]
     },
     "execution_count": 9,
     "metadata": {},
     "output_type": "execute_result"
    }
   ],
   "source": [
    "square = [i**2 for i in range (0,10)]\n",
    "square"
   ]
  },
  {
   "cell_type": "code",
   "execution_count": null,
   "id": "29ba7854",
   "metadata": {},
   "outputs": [
    {
     "data": {
      "text/plain": [
       "['ANIKET', 'PARAG', 'NIKHIL', 'MIHIR', 'TANVI', 'AJAY']"
      ]
     },
     "execution_count": 11,
     "metadata": {},
     "output_type": "execute_result"
    }
   ],
   "source": [
    "lst = ['Aniket','Parag','Nikhil','Mihir','Tanvi','Ajay']\n",
    "new_list = [lst.upper() for lst in lst]\n",
    "new_list"
   ]
  },
  {
   "cell_type": "code",
   "execution_count": null,
   "id": "71a584dd",
   "metadata": {},
   "outputs": [
    {
     "data": {
      "text/plain": [
       "['aniket', 'parag', 'nikhil', 'mihir', 'tanvi', 'ajay']"
      ]
     },
     "execution_count": 12,
     "metadata": {},
     "output_type": "execute_result"
    }
   ],
   "source": [
    "new_list = [lst.lower() for lst in lst]\n",
    "new_list"
   ]
  },
  {
   "cell_type": "code",
   "execution_count": null,
   "id": "be4f677a",
   "metadata": {},
   "outputs": [
    {
     "data": {
      "text/plain": [
       "[6, 5, 6, 5, 5, 4]"
      ]
     },
     "execution_count": 13,
     "metadata": {},
     "output_type": "execute_result"
    }
   ],
   "source": [
    "new_list = [len(lst) for lst in lst]\n",
    "new_list"
   ]
  },
  {
   "cell_type": "code",
   "execution_count": null,
   "id": "f14f0148",
   "metadata": {},
   "outputs": [
    {
     "data": {
      "text/plain": [
       "31"
      ]
     },
     "execution_count": 18,
     "metadata": {},
     "output_type": "execute_result"
    }
   ],
   "source": [
    "new_list = sum([len(lst) for lst in lst])\n",
    "new_list"
   ]
  },
  {
   "cell_type": "code",
   "execution_count": null,
   "id": "854208e6",
   "metadata": {},
   "outputs": [
    {
     "data": {
      "text/plain": [
       "4"
      ]
     },
     "execution_count": 19,
     "metadata": {},
     "output_type": "execute_result"
    }
   ],
   "source": [
    "new_list = min([len(lst) for lst in lst])\n",
    "new_list"
   ]
  },
  {
   "cell_type": "code",
   "execution_count": null,
   "id": "1e5e7f0c",
   "metadata": {},
   "outputs": [
    {
     "data": {
      "text/plain": [
       "6"
      ]
     },
     "execution_count": 20,
     "metadata": {},
     "output_type": "execute_result"
    }
   ],
   "source": [
    "new_list = max([len(lst) for lst in lst])\n",
    "new_list"
   ]
  },
  {
   "cell_type": "code",
   "execution_count": null,
   "id": "0d8c3576",
   "metadata": {},
   "outputs": [
    {
     "data": {
      "text/plain": [
       "20"
      ]
     },
     "execution_count": 24,
     "metadata": {},
     "output_type": "execute_result"
    }
   ],
   "source": [
    "#Logic 0 2 4 6 8: sum :20\n",
    "n = sum([x for x in range (0,10) if x %2==0])\n",
    "n"
   ]
  },
  {
   "cell_type": "code",
   "execution_count": null,
   "id": "1d7da36a",
   "metadata": {},
   "outputs": [
    {
     "data": {
      "text/plain": [
       "25"
      ]
     },
     "execution_count": 26,
     "metadata": {},
     "output_type": "execute_result"
    }
   ],
   "source": [
    "#Logic 0 1 3 5 7 9: sum :25\n",
    "n = sum([x for x in range (0,10) if x %2 != 0])\n",
    "n"
   ]
  },
  {
   "cell_type": "code",
   "execution_count": null,
   "id": "044c7a39",
   "metadata": {},
   "outputs": [
    {
     "data": {
      "text/plain": [
       "120"
      ]
     },
     "execution_count": 27,
     "metadata": {},
     "output_type": "execute_result"
    }
   ],
   "source": [
    "#5 ! 5*4*3*2*1  ---> 120 \n",
    "import math\n",
    "math.factorial(5)"
   ]
  },
  {
   "cell_type": "code",
   "execution_count": null,
   "id": "f3e99e7c",
   "metadata": {},
   "outputs": [
    {
     "name": "stdout",
     "output_type": "stream",
     "text": [
      "2.23606797749979\n",
      "2.23606797749979\n"
     ]
    }
   ],
   "source": [
    "# square root \n",
    "print(5**0.5)\n",
    "print(math.sqrt(5))"
   ]
  },
  {
   "cell_type": "code",
   "execution_count": null,
   "id": "ad55e26e",
   "metadata": {},
   "outputs": [
    {
     "name": "stdout",
     "output_type": "stream",
     "text": [
      "4.0\n"
     ]
    }
   ],
   "source": [
    "# pow \n",
    "\n",
    "print(math.pow(2,2))"
   ]
  },
  {
   "cell_type": "code",
   "execution_count": null,
   "id": "8c48c0cf",
   "metadata": {},
   "outputs": [
    {
     "name": "stdout",
     "output_type": "stream",
     "text": [
      "1.0\n"
     ]
    }
   ],
   "source": [
    "print(math.log10(10))"
   ]
  },
  {
   "cell_type": "code",
   "execution_count": null,
   "id": "b37ac18f",
   "metadata": {},
   "outputs": [],
   "source": [
    "import math \n",
    "import os\n",
    "import datetime\n"
   ]
  },
  {
   "cell_type": "code",
   "execution_count": null,
   "id": "b78e8edb",
   "metadata": {},
   "outputs": [
    {
     "name": "stdout",
     "output_type": "stream",
     "text": [
      "HELLO WORLD\n"
     ]
    }
   ],
   "source": [
    "# define function \n",
    "\n",
    "def sum(): #sum() function definition \n",
    "    print('HELLO WORLD')\n",
    "    \n",
    "ans = sum() #sum() function calling and storing in variable ans"
   ]
  },
  {
   "cell_type": "code",
   "execution_count": null,
   "id": "2ce47f5b",
   "metadata": {},
   "outputs": [
    {
     "name": "stdout",
     "output_type": "stream",
     "text": [
      "300\n"
     ]
    }
   ],
   "source": [
    "def sum(num1,num2):\n",
    "    num3 = num1 + num2\n",
    "    print(num3)\n",
    "    \n",
    "ans = sum(100,200)"
   ]
  },
  {
   "cell_type": "code",
   "execution_count": null,
   "id": "32263a02",
   "metadata": {},
   "outputs": [
    {
     "name": "stdout",
     "output_type": "stream",
     "text": [
      "The Addition of two number100 and 200 is 300\n"
     ]
    }
   ],
   "source": [
    "def sum(num1,num2):\n",
    "    num3 = num1 + num2\n",
    "    print(F'The Addition of two number{num1} and {num2} is',num3) \n",
    "    \n",
    "ans = sum(100,200)"
   ]
  },
  {
   "cell_type": "code",
   "execution_count": null,
   "id": "3b5e0407",
   "metadata": {},
   "outputs": [
    {
     "name": "stdout",
     "output_type": "stream",
     "text": [
      "The Addition of two number10.0 and 20.0 is 30.0\n",
      "The multiplication of two number10.0 and 20.0 is 200.0\n"
     ]
    }
   ],
   "source": [
    "num1 = float(input('Enter the first number'))\n",
    "num2 = float(input('Enter the second number'))\n",
    "\n",
    "def sum(num1,num2):\n",
    "    num3 = num1 + num2\n",
    "    print(f'The Addition of two number{num1} and {num2} is',num3)\n",
    "    return num3\n",
    "    \n",
    "def mul(num1,num2):\n",
    "    num4 = num1 * num2\n",
    "    print(f'The multiplication of two number{num1} and {num2} is',num4)\n",
    "    return num4\n",
    "    \n",
    "addition = sum(num1,num2)\n",
    "multiplication = mul(num1,num2)"
   ]
  },
  {
   "cell_type": "code",
   "execution_count": null,
   "id": "99a3a8cd",
   "metadata": {},
   "outputs": [],
   "source": [
    "multiplication"
   ]
  },
  {
   "cell_type": "code",
   "execution_count": null,
   "id": "c2003adb",
   "metadata": {},
   "outputs": [
    {
     "name": "stdout",
     "output_type": "stream",
     "text": [
      "The given is string is palindrom.\n"
     ]
    }
   ],
   "source": [
    "''' \n",
    "palindrom :\n",
    "mom = mom\n",
    "'''\n",
    "text = input('Enter the string: ')\n",
    "text1 = text[::-1]\n",
    "\n",
    "def pal(text):\n",
    "    if text == text1:\n",
    "        print('The given is string is palindrom.')\n",
    "    else:\n",
    "        print('The given string is not a palindrom')\n",
    "    \n",
    "pal(text)"
   ]
  },
  {
   "cell_type": "code",
   "execution_count": null,
   "id": "2943f109",
   "metadata": {},
   "outputs": [
    {
     "name": "stdout",
     "output_type": "stream",
     "text": [
      "Moderate Student\n"
     ]
    }
   ],
   "source": [
    "''' \n",
    "CGPA >= 8 : Bright Student\n",
    "CGPA between 6.9 to 7.9: Moderate student \n",
    "CGPA =< 6.8 : Weak student\n",
    "'''\n",
    "\n",
    "# Get CGPA input from user\n",
    "cgpa = float(input(\"Enter your CGPA: \"))\n",
    "\n",
    "# Classification based on CGPA\n",
    "if cgpa >= 8:\n",
    "    print(\"Bright Student\")\n",
    "elif cgpa <= 7.9 and cgpa >= 6.9:\n",
    "    print(\"Moderate Student\")\n",
    "else:\n",
    "    print(\"Weak Student\")\n",
    "\n",
    "\n"
   ]
  },
  {
   "cell_type": "code",
   "execution_count": null,
   "id": "0d33fc76",
   "metadata": {},
   "outputs": [
    {
     "name": "stdout",
     "output_type": "stream",
     "text": [
      "Moderate Student\n"
     ]
    }
   ],
   "source": [
    "cgpa = float(input(\"Enter your CGPA: \"))\n",
    "\n",
    "def compute(cgpa):\n",
    "    if cgpa >= 8:\n",
    "        print(\"Bright Student\")\n",
    "    elif cgpa <= 7.9 and cgpa >= 6.9:\n",
    "        print(\"Moderate Student\")\n",
    "    else:\n",
    "        print(\"Weak Student\")\n",
    "    \n",
    "compute(cgpa)"
   ]
  },
  {
   "cell_type": "code",
   "execution_count": null,
   "id": "ed7e5de0",
   "metadata": {},
   "outputs": [
    {
     "name": "stdout",
     "output_type": "stream",
     "text": [
      "The given string is palindrom: \n"
     ]
    }
   ],
   "source": [
    "text = input('Enter the text: ')\n",
    "text1 = text[::-1]\n",
    "def  palindrom(text):   #Defining Function\n",
    "    global text1\n",
    "    if text == text1:\n",
    "        print('The given string is palindrom: ')\n",
    "    else:\n",
    "        print('The given string is not a palindrom: ')\n",
    "        \n",
    "palindrom(text)    # Calling a function "
   ]
  },
  {
   "cell_type": "code",
   "execution_count": null,
   "id": "c52a5951",
   "metadata": {},
   "outputs": [
    {
     "data": {
      "text/plain": [
       "120"
      ]
     },
     "execution_count": 1,
     "metadata": {},
     "output_type": "execute_result"
    }
   ],
   "source": [
    "# Recurssive Function \n",
    "# 5! = 5*4*3*2*1 =120\n",
    "\n",
    "def  factorial(n):\n",
    "    if n == 0 or n == 1:\n",
    "        return 1 # base case \n",
    "    else:\n",
    "        return n* factorial(n-1)\n",
    "    \n",
    "factorial(5)"
   ]
  },
  {
   "cell_type": "code",
   "execution_count": null,
   "id": "99105b09",
   "metadata": {},
   "outputs": [
    {
     "data": {
      "text/plain": [
       "12345"
      ]
     },
     "execution_count": 4,
     "metadata": {},
     "output_type": "execute_result"
    }
   ],
   "source": [
    "# oop: Object oriented programming \n",
    "\n",
    "class ClassName:\n",
    "    i=12345\n",
    "    \n",
    "x = ClassName()\n",
    "x.i"
   ]
  },
  {
   "cell_type": "code",
   "execution_count": null,
   "id": "ac39cc3d",
   "metadata": {},
   "outputs": [
    {
     "name": "stdout",
     "output_type": "stream",
     "text": [
      "10 + 10 j\n"
     ]
    }
   ],
   "source": [
    "class Complex: #ClassName: Complex\n",
    "    def __init__(self,real,img):        #Constuctor method\n",
    "        self.r = real                   #Attribute\n",
    "        self.i = img                    #Attribute\n",
    "x = Complex(10,10)   #x is an object of class complex\n",
    "x.r  # Calling Attribute using dot operator with the help of object x\n",
    "x.i  # Calling Attribute using dot operator with the help of object x\n",
    "print(x.r,'+',x.i,'j')"
   ]
  },
  {
   "cell_type": "code",
   "execution_count": null,
   "id": "1ea616c0",
   "metadata": {},
   "outputs": [
    {
     "data": {
      "text/plain": [
       "300"
      ]
     },
     "execution_count": 14,
     "metadata": {},
     "output_type": "execute_result"
    }
   ],
   "source": [
    "class addition:\n",
    "    def __init__(self):\n",
    "        self.num1 = 100\n",
    "        self.num2 = 200 \n",
    "    def sum(self):\n",
    "        num3 = self.num1 + self.num2\n",
    "        return num3\n",
    "\n",
    "a = addition()\n",
    "a.sum()"
   ]
  },
  {
   "cell_type": "code",
   "execution_count": null,
   "id": "86350975",
   "metadata": {},
   "outputs": [
    {
     "name": "stdout",
     "output_type": "stream",
     "text": [
      "Tesla Model S is starting...\n",
      "Tesla Model S is charge with 10000 KWh battery.\n",
      "Tesla Model S is stopping...\n"
     ]
    }
   ],
   "source": [
    "# Concept of INHERITANCE\n",
    "# Parent class\n",
    "class Car:\n",
    "    def __init__(self,brand,model):\n",
    "        self.brand = brand\n",
    "        self.model = model\n",
    "    \n",
    "    def start(self):\n",
    "        print(f\"{self.brand} {self.model} is starting...\")\n",
    "\n",
    "    def stop(self):\n",
    "        print(f\"{self.brand} {self.model} is stopping...\")\n",
    "\n",
    "# Child class\n",
    "class ElectricCar(Car):\n",
    "    def __init__(self,brand,model,battery_capacity):\n",
    "        super().__init__(brand,model) # Inherit barnd and model\n",
    "        self.battery_capacity = battery_capacity\n",
    "\n",
    "    def charge(self):\n",
    "        print(f\"{self.brand} {self.model} is charge with {self.battery_capacity} KWh battery.\")\n",
    "\n",
    "# Create an object of ElectricCar\n",
    "tesla = ElectricCar(\"Tesla\",\"Model S\",10000)\n",
    "tesla.start()\n",
    "tesla.charge()\n",
    "tesla.stop()"
   ]
  },
  {
   "cell_type": "code",
   "execution_count": null,
   "id": "8a88cca1",
   "metadata": {},
   "outputs": [],
   "source": [
    "class Car:\n",
    "    def start_engine(slef):\n",
    "        print(\"starting engine...\")\n",
    "        \n",
    "class ElectricCar(Car):\n",
    "    def start_engine(self):\n",
    "        print(\"starting silent electric engine...\")\n",
    "        \n",
    "#Child class\n",
    "class petrolCar(Car):\n",
    "    def start_engine(slef):\n",
    "        print(\"starting petrol engine with sound...\")\n",
    "        \n"
   ]
  },
  {
   "cell_type": "code",
   "execution_count": null,
   "id": "37f18eab",
   "metadata": {},
   "outputs": [],
   "source": [
    "object1 = Car()    #Object is defined with parent class \n",
    "object2 = ElectricCar() #Object is defined with child class\n",
    "object3 = petrolCar()    #Object is defined with child class"
   ]
  },
  {
   "cell_type": "code",
   "execution_count": null,
   "id": "0733f9cb",
   "metadata": {},
   "outputs": [
    {
     "name": "stdout",
     "output_type": "stream",
     "text": [
      "starting engine...\n"
     ]
    }
   ],
   "source": [
    "object1.start_engine()"
   ]
  },
  {
   "cell_type": "code",
   "execution_count": null,
   "id": "7d0387fc",
   "metadata": {},
   "outputs": [
    {
     "name": "stdout",
     "output_type": "stream",
     "text": [
      "starting silent electric engine...\n"
     ]
    }
   ],
   "source": [
    "object2.start_engine()"
   ]
  },
  {
   "cell_type": "code",
   "execution_count": null,
   "id": "65ac68b0",
   "metadata": {},
   "outputs": [
    {
     "name": "stdout",
     "output_type": "stream",
     "text": [
      "starting petrol engine with sound...\n"
     ]
    }
   ],
   "source": [
    "object3.start_engine()"
   ]
  },
  {
   "cell_type": "code",
   "execution_count": null,
   "id": "9e9b8159",
   "metadata": {},
   "outputs": [],
   "source": [
    "# Defining parent class: Bank_Account\n",
    "class Bank_Account:\n",
    "    # Defining special method: Constructor function\n",
    "    def _init_(self):\n",
    "        # Defining attributes inside constructor function\n",
    "        self.first_name = input('Enter the first_name') \n",
    "        self.last_name = input('Enter the last_name')\n",
    "        self.age = int(input('Enter the age'))\n",
    "        self.sex = input('Enter the sex')\n",
    "        self.mobile_number = int(input('mobile_number'))\n",
    "    # Defining method: details\n",
    "    def details(self):\n",
    "        print(f'The first name is {self.first_name}')\n",
    "        print(f'The last name is {self.last_name}')\n",
    "        print(f'The age is {self.age}')\n",
    "        print(f'The sex is {self.sex} ')\n",
    "        print(f'The mobile number is {self.mobile_number}')\n",
    "\n",
    "# Defining Child Class: Saving_Acc \n",
    "class Saving_Acc(Bank_Account):\n",
    "    # Defing method: intrest rate\n",
    "    def intrest_rate(self):\n",
    "        return 3\n",
    "    \n",
    "# Defining Child Class:Current_Acc  \n",
    "class Current_Acc(Bank_Account):\n",
    "    # Defing method: intrest rate\n",
    "    def intrest_rate(self):\n",
    "        return 0\n",
    "    \n",
    "# Defining Child Class:Pensioner_acc\n",
    "class Pensioner_acc(Bank_Account):\n",
    "    # Defing method: intrest rate\n",
    "    def intrest_rate(self):\n",
    "        return 6\n",
    "    \n",
    "# Defining Child Class:NRI_Acc  \n",
    "class NRI_Acc(Bank_Account):\n",
    "    # Defing method: intrest rate\n",
    "    def intrest_rate(self):\n",
    "        return 5 \n",
    "    \n",
    "# Defining Object\n",
    "Mihir = Saving_Acc()\n",
    "Disha = Current_Acc()\n",
    "Ajay = Pensioner_acc()\n",
    "Nikhil = NRI_Acc()\n",
    "Aniket = Saving_Acc()\n",
    "Parag = Current_Acc()\n",
    "Tosif = Pensioner_acc()\n",
    "Hemangi = NRI_Acc()"
   ]
  },
  {
   "cell_type": "code",
   "execution_count": null,
   "id": "620daa46",
   "metadata": {},
   "outputs": [
    {
     "data": {
      "text/plain": [
       "3"
      ]
     },
     "execution_count": 6,
     "metadata": {},
     "output_type": "execute_result"
    }
   ],
   "source": [
    "Mihir.intrest_rate()"
   ]
  },
  {
   "cell_type": "code",
   "execution_count": 3,
   "id": "76ea3893",
   "metadata": {},
   "outputs": [
    {
     "name": "stdout",
     "output_type": "stream",
     "text": [
      "<class 'list'>\n"
     ]
    }
   ],
   "source": [
    "#1D Array \n",
    "arr = [1,2,3,4,5]\n",
    "print(type(arr))\n"
   ]
  },
  {
   "cell_type": "code",
   "execution_count": 4,
   "id": "58cdf37b",
   "metadata": {},
   "outputs": [],
   "source": [
    "arr.append(6)"
   ]
  },
  {
   "cell_type": "code",
   "execution_count": 5,
   "id": "cc3e6b9a",
   "metadata": {},
   "outputs": [
    {
     "data": {
      "text/plain": [
       "[1, 2, 3, 4, 5, 6]"
      ]
     },
     "execution_count": 5,
     "metadata": {},
     "output_type": "execute_result"
    }
   ],
   "source": [
    "arr"
   ]
  },
  {
   "cell_type": "code",
   "execution_count": 6,
   "id": "e9051e4f",
   "metadata": {},
   "outputs": [
    {
     "name": "stdout",
     "output_type": "stream",
     "text": [
      "1\n",
      "(6,)\n",
      "[1 2 3 4 5 6]\n"
     ]
    }
   ],
   "source": [
    "# Numpy Array Formation \n",
    "\n",
    "import numpy as np \n",
    "arr = np.array(arr)\n",
    "print(arr.ndim)   #n Dimensions\n",
    "print(arr.shape)  # Dataset Shape: rows,columns\n",
    "print(arr)        # Print : Array"
   ]
  },
  {
   "cell_type": "code",
   "execution_count": 7,
   "id": "2d0d6c9c",
   "metadata": {},
   "outputs": [
    {
     "name": "stdout",
     "output_type": "stream",
     "text": [
      "2\n",
      "(2, 3)\n",
      "[[1 2 3]\n",
      " [4 5 6]]\n"
     ]
    }
   ],
   "source": [
    "#2D array \n",
    "\n",
    "arr1 = [[1,2,3],[4,5,6]]\n",
    "arr1 = np.array(arr1)\n",
    "print(arr1.ndim)\n",
    "print(arr1.shape)\n",
    "print(arr1)"
   ]
  },
  {
   "cell_type": "code",
   "execution_count": 8,
   "id": "6314310b",
   "metadata": {},
   "outputs": [
    {
     "name": "stdout",
     "output_type": "stream",
     "text": [
      "3\n",
      "(1, 2, 3)\n",
      "[[[1 2 3]\n",
      "  [4 5 6]]]\n"
     ]
    }
   ],
   "source": [
    "#3D Array\n",
    "\n",
    "arr2 = [[[1,2,3,],[4,5,6]]]\n",
    "arr2 = np.array(arr2)\n",
    "print(arr2.ndim)\n",
    "print(arr2.shape)\n",
    "print(arr2)"
   ]
  },
  {
   "cell_type": "code",
   "execution_count": null,
   "id": "e8744c97",
   "metadata": {},
   "outputs": [
    {
     "name": "stdout",
     "output_type": "stream",
     "text": [
      "[[11 22 33]\n",
      " [44 55 66]\n",
      " [77 88 99]]\n"
     ]
    }
   ],
   "source": [
    "#Matrix summation \n",
    "\n",
    "a = np.array([[1,2,3],[4,5,6],[7,8,9]])\n",
    "b = np.array([[10,20,30],[40,50,60],[70,80,90]])\n",
    "\n",
    "c = a+b\n",
    "print(c)"
   ]
  },
  {
   "cell_type": "code",
   "execution_count": null,
   "id": "74cfb43b",
   "metadata": {},
   "outputs": [
    {
     "name": "stdout",
     "output_type": "stream",
     "text": [
      "[[ 2.  2.  3.]\n",
      " [ 4.  6.  6.]\n",
      " [ 7.  8. 10.]]\n"
     ]
    }
   ],
   "source": [
    "# diagonal matrix\n",
    "\n",
    "a = np.array([[1,2,3],[4,5,6],[7,8,9]])\n",
    "b = np.array([[10,20,30],[40,50,60],[70,80,90]])\n",
    "c = np.eye(3)\n",
    "\n",
    "d = a + c \n",
    "print(d)\n"
   ]
  },
  {
   "cell_type": "code",
   "execution_count": 9,
   "id": "fb394f1f",
   "metadata": {},
   "outputs": [
    {
     "name": "stdout",
     "output_type": "stream",
     "text": [
      "[[11. 21. 31.]\n",
      " [41. 51. 61.]\n",
      " [71. 81. 91.]]\n"
     ]
    }
   ],
   "source": [
    "a = np.array([[1,2,3],[4,5,6],[7,8,9]])\n",
    "b = np.array([[10,20,30],[40,50,60],[70,80,90]])\n",
    "c = np.eye(3)\n",
    "d = np.zeros(3)\n",
    "e = np.ones(3)\n",
    "\n",
    "z = b+e\n",
    "print(z)"
   ]
  },
  {
   "cell_type": "code",
   "execution_count": 10,
   "id": "6102c45b",
   "metadata": {},
   "outputs": [
    {
     "data": {
      "text/plain": [
       "array([[1, 2, 3],\n",
       "       [4, 5, 6],\n",
       "       [7, 8, 9]])"
      ]
     },
     "execution_count": 10,
     "metadata": {},
     "output_type": "execute_result"
    }
   ],
   "source": [
    "a"
   ]
  },
  {
   "cell_type": "code",
   "execution_count": 11,
   "id": "d2929c5c",
   "metadata": {},
   "outputs": [
    {
     "data": {
      "text/plain": [
       "array([[ 2,  4,  6],\n",
       "       [ 8, 10, 12],\n",
       "       [14, 16, 18]])"
      ]
     },
     "execution_count": 11,
     "metadata": {},
     "output_type": "execute_result"
    }
   ],
   "source": [
    "a*2"
   ]
  },
  {
   "cell_type": "code",
   "execution_count": 12,
   "id": "e6e05c0c",
   "metadata": {},
   "outputs": [
    {
     "data": {
      "text/plain": [
       "array([[0.5, 1. , 1.5],\n",
       "       [2. , 2.5, 3. ],\n",
       "       [3.5, 4. , 4.5]])"
      ]
     },
     "execution_count": 12,
     "metadata": {},
     "output_type": "execute_result"
    }
   ],
   "source": [
    "a/2"
   ]
  },
  {
   "cell_type": "code",
   "execution_count": 13,
   "id": "d20638c5",
   "metadata": {},
   "outputs": [
    {
     "data": {
      "text/plain": [
       "array([[ 2,  6, 12],\n",
       "       [ 8, 15, 24],\n",
       "       [14, 24, 36]])"
      ]
     },
     "execution_count": 13,
     "metadata": {},
     "output_type": "execute_result"
    }
   ],
   "source": [
    "a*[2,3,4]\n"
   ]
  },
  {
   "cell_type": "code",
   "execution_count": 14,
   "id": "079bd9bf",
   "metadata": {},
   "outputs": [
    {
     "name": "stdout",
     "output_type": "stream",
     "text": [
      "[1. 2. 3.]\n"
     ]
    }
   ],
   "source": [
    "# Changing Dtype :Datatype\n",
    "\n",
    "a = np.array([1,2,3],dtype = 'float')\n",
    "print (a)"
   ]
  },
  {
   "cell_type": "code",
   "execution_count": 15,
   "id": "9d540e80",
   "metadata": {},
   "outputs": [
    {
     "data": {
      "text/plain": [
       "array([False,  True,  True])"
      ]
     },
     "execution_count": 15,
     "metadata": {},
     "output_type": "execute_result"
    }
   ],
   "source": [
    "a = np.array([0,2,3], dtype = 'bool')\n",
    "a"
   ]
  },
  {
   "cell_type": "code",
   "execution_count": 16,
   "id": "8b1dab65",
   "metadata": {},
   "outputs": [
    {
     "data": {
      "text/plain": [
       "array([0.+0.j, 2.+0.j, 3.+0.j])"
      ]
     },
     "execution_count": 16,
     "metadata": {},
     "output_type": "execute_result"
    }
   ],
   "source": [
    "a = np.array([0,2,3],dtype = 'complex')\n",
    "a"
   ]
  },
  {
   "cell_type": "code",
   "execution_count": 17,
   "id": "2f19f48e",
   "metadata": {},
   "outputs": [
    {
     "data": {
      "text/plain": [
       "array([1, 3, 5, 7, 9])"
      ]
     },
     "execution_count": 17,
     "metadata": {},
     "output_type": "execute_result"
    }
   ],
   "source": [
    "# Arange Function \n",
    "# np.arange(start,stop,step)\n",
    "\n",
    "a = np.arange(1,10,2)\n",
    "a"
   ]
  },
  {
   "cell_type": "code",
   "execution_count": 18,
   "id": "085103f8",
   "metadata": {},
   "outputs": [
    {
     "data": {
      "text/plain": [
       "array([ 0,  1,  2,  3,  4,  5,  6,  7,  8,  9, 10, 11, 12, 13, 14, 15, 16,\n",
       "       17, 18, 19])"
      ]
     },
     "execution_count": 18,
     "metadata": {},
     "output_type": "execute_result"
    }
   ],
   "source": [
    "num = np.arange(0,20)\n",
    "num"
   ]
  },
  {
   "cell_type": "code",
   "execution_count": 19,
   "id": "ba93f730",
   "metadata": {},
   "outputs": [
    {
     "data": {
      "text/plain": [
       "array([[ 0,  1,  2,  3],\n",
       "       [ 4,  5,  6,  7],\n",
       "       [ 8,  9, 10, 11],\n",
       "       [12, 13, 14, 15],\n",
       "       [16, 17, 18, 19]])"
      ]
     },
     "execution_count": 19,
     "metadata": {},
     "output_type": "execute_result"
    }
   ],
   "source": [
    "num.reshape(5,4)"
   ]
  },
  {
   "cell_type": "code",
   "execution_count": 20,
   "id": "0e8c675d",
   "metadata": {},
   "outputs": [
    {
     "data": {
      "text/plain": [
       "array([[ 0,  1,  2,  3,  4,  5,  6,  7,  8,  9],\n",
       "       [10, 11, 12, 13, 14, 15, 16, 17, 18, 19]])"
      ]
     },
     "execution_count": 20,
     "metadata": {},
     "output_type": "execute_result"
    }
   ],
   "source": [
    "num.reshape(2,10)"
   ]
  },
  {
   "cell_type": "code",
   "execution_count": 21,
   "id": "feedbddf",
   "metadata": {},
   "outputs": [
    {
     "data": {
      "text/plain": [
       "array([[ 0],\n",
       "       [ 1],\n",
       "       [ 2],\n",
       "       [ 3],\n",
       "       [ 4],\n",
       "       [ 5],\n",
       "       [ 6],\n",
       "       [ 7],\n",
       "       [ 8],\n",
       "       [ 9],\n",
       "       [10],\n",
       "       [11],\n",
       "       [12],\n",
       "       [13],\n",
       "       [14],\n",
       "       [15],\n",
       "       [16],\n",
       "       [17],\n",
       "       [18],\n",
       "       [19]])"
      ]
     },
     "execution_count": 21,
     "metadata": {},
     "output_type": "execute_result"
    }
   ],
   "source": [
    "num.reshape(20,1)"
   ]
  },
  {
   "cell_type": "code",
   "execution_count": 22,
   "id": "9791a88a",
   "metadata": {},
   "outputs": [
    {
     "data": {
      "text/plain": [
       "array([ 1.        ,  2.28571429,  3.57142857,  4.85714286,  6.14285714,\n",
       "        7.42857143,  8.71428571, 10.        ])"
      ]
     },
     "execution_count": 22,
     "metadata": {},
     "output_type": "execute_result"
    }
   ],
   "source": [
    "np.linspace(1,10,8)"
   ]
  },
  {
   "cell_type": "code",
   "execution_count": 23,
   "id": "6be677ab",
   "metadata": {},
   "outputs": [
    {
     "data": {
      "text/plain": [
       "array([ 1.,  4.,  7., 10.])"
      ]
     },
     "execution_count": 23,
     "metadata": {},
     "output_type": "execute_result"
    }
   ],
   "source": [
    "np.linspace(1,10,4)"
   ]
  },
  {
   "cell_type": "code",
   "execution_count": 24,
   "id": "ef434e8f",
   "metadata": {},
   "outputs": [
    {
     "name": "stdout",
     "output_type": "stream",
     "text": [
      "10\n"
     ]
    },
    {
     "data": {
      "text/plain": [
       "array([ 0.        ,  2.22222222,  4.44444444,  6.66666667,  8.88888889,\n",
       "       11.11111111, 13.33333333, 15.55555556, 17.77777778, 20.        ])"
      ]
     },
     "execution_count": 24,
     "metadata": {},
     "output_type": "execute_result"
    }
   ],
   "source": [
    "a = np.linspace(0,20,10)\n",
    "print(a.size)\n",
    "a"
   ]
  },
  {
   "cell_type": "code",
   "execution_count": 26,
   "id": "bb718d9f",
   "metadata": {},
   "outputs": [
    {
     "data": {
      "text/plain": [
       "array([ 0,  1,  2,  3,  4,  5,  6,  7,  8,  9, 10, 11, 12, 13, 14, 15, 16,\n",
       "       17, 18, 19, 20, 21, 22, 23, 24, 25, 26, 27, 28, 29])"
      ]
     },
     "execution_count": 26,
     "metadata": {},
     "output_type": "execute_result"
    }
   ],
   "source": [
    "num = np.arange(0,30)\n",
    "num"
   ]
  },
  {
   "cell_type": "code",
   "execution_count": 27,
   "id": "8c06aeb3",
   "metadata": {},
   "outputs": [
    {
     "data": {
      "text/plain": [
       "array([[ 0,  1,  2,  3,  4,  5],\n",
       "       [ 6,  7,  8,  9, 10, 11],\n",
       "       [12, 13, 14, 15, 16, 17],\n",
       "       [18, 19, 20, 21, 22, 23],\n",
       "       [24, 25, 26, 27, 28, 29]])"
      ]
     },
     "execution_count": 27,
     "metadata": {},
     "output_type": "execute_result"
    }
   ],
   "source": [
    "arr = num.reshape(5,6)\n",
    "arr"
   ]
  },
  {
   "cell_type": "code",
   "execution_count": 28,
   "id": "cd3dc393",
   "metadata": {},
   "outputs": [
    {
     "data": {
      "text/plain": [
       "(29, 0, 14.5, 8.65544144839919)"
      ]
     },
     "execution_count": 28,
     "metadata": {},
     "output_type": "execute_result"
    }
   ],
   "source": [
    "arr.max(),arr.min(),arr.mean(),arr.std()"
   ]
  },
  {
   "cell_type": "code",
   "execution_count": 29,
   "id": "c8c3f2b4",
   "metadata": {},
   "outputs": [
    {
     "name": "stdout",
     "output_type": "stream",
     "text": [
      "2\n"
     ]
    },
    {
     "data": {
      "text/plain": [
       "array([[50, 51, 52, 53, 54],\n",
       "       [55, 56, 57, 58, 59],\n",
       "       [60, 61, 62, 63, 64],\n",
       "       [65, 66, 67, 68, 69],\n",
       "       [70, 71, 72, 73, 74],\n",
       "       [75, 76, 77, 78, 79],\n",
       "       [80, 81, 82, 83, 84],\n",
       "       [85, 86, 87, 88, 89],\n",
       "       [90, 91, 92, 93, 94],\n",
       "       [95, 96, 97, 98, 99]])"
      ]
     },
     "execution_count": 29,
     "metadata": {},
     "output_type": "execute_result"
    }
   ],
   "source": [
    "n = np.arange(50,100) #1D\n",
    "m = n.reshape(10,5)  #2D\n",
    "print(m.ndim)  #checking dimension :2D\n",
    "m[1:3,1:3]\n",
    "m"
   ]
  },
  {
   "cell_type": "code",
   "execution_count": 30,
   "id": "82d8f223",
   "metadata": {},
   "outputs": [
    {
     "data": {
      "text/plain": [
       "array([[81, 82, 83],\n",
       "       [86, 87, 88],\n",
       "       [91, 92, 93]])"
      ]
     },
     "execution_count": 30,
     "metadata": {},
     "output_type": "execute_result"
    }
   ],
   "source": [
    "m[6:9,1:4]"
   ]
  },
  {
   "cell_type": "code",
   "execution_count": 49,
   "id": "418a9195",
   "metadata": {},
   "outputs": [
    {
     "name": "stdout",
     "output_type": "stream",
     "text": [
      "3\n"
     ]
    },
    {
     "data": {
      "text/plain": [
       "array([[[101., 102., 103., 104., 105.],\n",
       "        [106., 107., 108., 109., 110.],\n",
       "        [111., 112., 113., 114., 115.],\n",
       "        [116., 117., 118., 119., 120.],\n",
       "        [121., 122., 123., 124., 125.],\n",
       "        [126., 127., 128., 129., 130.]]])"
      ]
     },
     "execution_count": 49,
     "metadata": {},
     "output_type": "execute_result"
    }
   ],
   "source": [
    "n = np.arange(101,131,dtype='float')\n",
    "o = n.reshape(1,6,5) #3D\n",
    "print(o.ndim) #checking Dimension :3D\n",
    "o"
   ]
  },
  {
   "cell_type": "code",
   "execution_count": 50,
   "id": "ca935e6a",
   "metadata": {},
   "outputs": [
    {
     "data": {
      "text/plain": [
       "array([], shape=(0, 3, 5), dtype=float64)"
      ]
     },
     "execution_count": 50,
     "metadata": {},
     "output_type": "execute_result"
    }
   ],
   "source": [
    "#Slicing\n",
    "o[3:,3:]"
   ]
  }
 ],
 "metadata": {
  "kernelspec": {
   "display_name": "base",
   "language": "python",
   "name": "python3"
  },
  "language_info": {
   "codemirror_mode": {
    "name": "ipython",
    "version": 3
   },
   "file_extension": ".py",
   "mimetype": "text/x-python",
   "name": "python",
   "nbconvert_exporter": "python",
   "pygments_lexer": "ipython3",
   "version": "3.12.7"
  }
 },
 "nbformat": 4,
 "nbformat_minor": 5
}
